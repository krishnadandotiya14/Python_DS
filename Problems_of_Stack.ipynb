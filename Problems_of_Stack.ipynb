{
 "cells": [
  {
   "cell_type": "code",
   "execution_count": 52,
   "metadata": {},
   "outputs": [],
   "source": [
    "class Stack(object):\n",
    "    \n",
    "    def __init__(self,limit=10):\n",
    "        self.item = []\n",
    "        self.limit = limit\n",
    "        \n",
    "    def empty(self):\n",
    "        if len(self.item) == 0:\n",
    "            return True\n",
    "        else: \n",
    "            return False\n",
    "        \n",
    "    def full(self):\n",
    "        if len(self.item) == self.limit:\n",
    "            return True\n",
    "        else:\n",
    "            return False\n",
    "        \n",
    "    def push(self,data):\n",
    "        if len(self.item) < self.limit:\n",
    "            return self.item.append(data)\n",
    "        else:\n",
    "            return -1\n",
    "    \n",
    "    def top(self):\n",
    "        if len(self.item) == 0:\n",
    "            return True\n",
    "        else: \n",
    "            return self.item[-1]\n",
    "        \n",
    "    def pop(self):\n",
    "        if len(self.item) != 0:\n",
    "           return self.item.pop();\n",
    "        else:\n",
    "            return -1\n",
    "        \n",
    "    def printStack(self):\n",
    "        print self.item"
   ]
  },
  {
   "cell_type": "code",
   "execution_count": 2,
   "metadata": {},
   "outputs": [
    {
     "name": "stdout",
     "output_type": "stream",
     "text": [
      "A B * C * D *\n"
     ]
    }
   ],
   "source": [
    "def infix2postfix(input_str):\n",
    "    prec = {}\n",
    "    prec[\"*\"] = 3\n",
    "    prec[\"/\"] = 3\n",
    "    prec[\"+\"] = 2\n",
    "    prec[\"-\"] = 2\n",
    "    prec[\"(\"] = 1\n",
    "    opStack = Stack()\n",
    "    postfixList = []\n",
    "    tokenList = input_str.split()\n",
    "        \n",
    "    for token in tokenList:\n",
    "        if token in \"ABCDEFGHIJKLMNOPQRSTUVWXYZ\" or token in \"0123456789\":\n",
    "            postfixList.append(token)\n",
    "        elif token ==\"(\":\n",
    "            opStack.push(token)\n",
    "        elif token ==\")\":\n",
    "            topToken = opStack.pop(token)\n",
    "            while topToken != ')':\n",
    "                postfixList.append(topToken)\n",
    "                topToken = opStack.pop()\n",
    "        else:\n",
    "            while (not opStack.empty() and (prec[opStack.top()] >= prec[token])):\n",
    "                postfixList.append(opStack.pop())\n",
    "            opStack.push(token)\n",
    "    \n",
    "    while not opStack.empty():\n",
    "        postfixList.append(opStack.pop())\n",
    "    return \" \".join(postfixList)\n",
    "\n",
    "print(infix2postfix(\"A * B * C * D\"))\n",
    "#print(infix2postfix(input_str))print(infix2postfix(input_str))"
   ]
  },
  {
   "cell_type": "code",
   "execution_count": 3,
   "metadata": {},
   "outputs": [
    {
     "name": "stdout",
     "output_type": "stream",
     "text": [
      "* A * B * C D\n",
      "- A * + B C D\n"
     ]
    }
   ],
   "source": [
    "def infix2prefix(input_str):\n",
    "    prec = {}\n",
    "    prec[\"*\"] = 3\n",
    "    prec[\"/\"] = 3\n",
    "    prec[\"+\"] = 2\n",
    "    prec[\"-\"] = 2\n",
    "    prec[\")\"] = 1\n",
    "    opStack = Stack()\n",
    "    prefixList = []\n",
    "    tokenList = input_str.split()[::-1]\n",
    "\n",
    "    for token in tokenList:\n",
    "        if token in \"ABCDEFGHIJKLMNOPRTSUVWXYZ\" or token in \"0123456789\":\n",
    "            prefixList.append(token)\n",
    "        elif token ==\")\":\n",
    "            opStack.push(token)\n",
    "        elif token ==\"(\":\n",
    "            topToken = opStack.pop(token)\n",
    "            while topToken != \")\":\n",
    "                prefixList.append(topToken)\n",
    "                topToken = opStack.pop()\n",
    "        else:\n",
    "            while (not opStack.empty() and (prec[opStack.top()] >= prec[token])):\n",
    "                prefixList.append(opStack.pop())\n",
    "            opStack.push(token)\n",
    "    \n",
    "    while not opStack.empty():\n",
    "        prefixList.append(opStack.pop())\n",
    "    return \" \".join(prefixList[::-1])\n",
    "\n",
    "print(infix2prefix(\"A * B * C * D\"))\n",
    "print(infix2prefix(\"A - B * C + D\"))"
   ]
  },
  {
   "cell_type": "code",
   "execution_count": 4,
   "metadata": {},
   "outputs": [],
   "source": [
    "class Queue(object):\n",
    "    \n",
    "    def __init__(self,limit=10):\n",
    "        self.items = []\n",
    "        self.limit = limit\n",
    "        \n",
    "    def enque(self,data):\n",
    "        return self.items.insert(0,data)\n",
    "    \n",
    "    def deque(self):\n",
    "        return self.items.pop()\n",
    "    \n",
    "    def isEmpty(self):\n",
    "        if len(self.items) == 0:\n",
    "            return True\n",
    "        else: \n",
    "            return False\n",
    "        \n",
    "    def isFull(self):\n",
    "        if len(self.items) == self.limit:\n",
    "            return True\n",
    "        else:\n",
    "            return False\n",
    "        \n",
    "    def printStack(self):\n",
    "        print self.items\n",
    "    "
   ]
  },
  {
   "cell_type": "code",
   "execution_count": 5,
   "metadata": {},
   "outputs": [
    {
     "name": "stdout",
     "output_type": "stream",
     "text": [
      "[11, 22, 49, 19]\n",
      "[11, 22, 49]\n"
     ]
    }
   ],
   "source": [
    "q = Queue()\n",
    "q.enque(19)\n",
    "q.enque(49)\n",
    "q.enque(22)\n",
    "q.enque(11)\n",
    "\n",
    "q.printStack()\n",
    "q.deque()\n",
    "q.printStack()"
   ]
  },
  {
   "cell_type": "markdown",
   "metadata": {},
   "source": [
    "# Reverse a stack using Recursion"
   ]
  },
  {
   "cell_type": "code",
   "execution_count": 21,
   "metadata": {},
   "outputs": [
    {
     "name": "stdout",
     "output_type": "stream",
     "text": [
      "[5, 2, 1, 7, 3]\n",
      "[3, 7, 1, 2, 5]\n"
     ]
    }
   ],
   "source": [
    "stack = Stack()\n",
    "stack.push(5)\n",
    "stack.push(2)\n",
    "stack.push(1)\n",
    "stack.push(7)\n",
    "stack.push(3)\n",
    "stack.printStack()\n",
    "   \n",
    "def reverse(stack):\n",
    "    if not stack.empty():\n",
    "        temp = stack.pop()\n",
    "        reverse(stack)\n",
    "        insertAtBottom(stack,temp)\n",
    "    \n",
    "def insertAtBottom(stack,item):\n",
    "    if stack.empty():\n",
    "        stack.push(item)\n",
    "    else:\n",
    "        temp = stack.pop()\n",
    "        insertAtBottom(stack,item)\n",
    "        stack.push(temp)\n",
    "reverse(stack)\n",
    "stack.printStack()\n"
   ]
  },
  {
   "cell_type": "code",
   "execution_count": null,
   "metadata": {},
   "outputs": [],
   "source": [
    "#"
   ]
  },
  {
   "cell_type": "markdown",
   "metadata": {},
   "source": [
    "\n",
    "# Sort a Stack using Recursion"
   ]
  },
  {
   "cell_type": "code",
   "execution_count": 64,
   "metadata": {},
   "outputs": [
    {
     "name": "stdout",
     "output_type": "stream",
     "text": [
      "Before Sorting\t[5, 2, 1, 7, 3]\n",
      "After Sorting\t[1, 2, 3, 5, 7]\n"
     ]
    }
   ],
   "source": [
    "stack = Stack()\n",
    "stack.push(5)\n",
    "stack.push(2)\n",
    "stack.push(1)\n",
    "stack.push(7)\n",
    "stack.push(3)\n",
    "    \n",
    "def sort(stack):\n",
    "    if not stack.empty():\n",
    "        temp = stack.pop()\n",
    "        sort(stack)\n",
    "        compare_push(stack,temp)\n",
    "    \n",
    "def compare_push(stack,item):\n",
    "    if stack.empty() or item > stack.top():\n",
    "        stack.push(item)\n",
    "    else:\n",
    "        tmp = stack.pop()\n",
    "        compare_push(stack,item)\n",
    "        stack.push(tmp)\n",
    "        \n",
    "print \"Before Sorting\\t\",\n",
    "stack.printStack()\n",
    "sort(stack)\n",
    "print \"After Sorting\\t\",\n",
    "stack.printStack()"
   ]
  },
  {
   "cell_type": "markdown",
   "metadata": {},
   "source": [
    "\n",
    "# Sort a Stack using other Stack"
   ]
  },
  {
   "cell_type": "code",
   "execution_count": 74,
   "metadata": {},
   "outputs": [
    {
     "name": "stdout",
     "output_type": "stream",
     "text": [
      "Before Sorting\t[5, 2, 1, 7, 3]\n",
      "After Sorting\t[3, 7, 1, 7, 2, 7, 5, 7]\n"
     ]
    }
   ],
   "source": [
    "stack = Stack()\n",
    "stack.push(5)\n",
    "stack.push(2)\n",
    "stack.push(1)\n",
    "stack.push(7)\n",
    "stack.push(3)\n",
    "\n",
    "stack2 = Stack()\n",
    "print \"Before Sorting\\t\",\n",
    "stack.printStack()\n",
    "\n",
    "stack2.push(stack.pop())\n",
    "while not stack.empty():\n",
    "    if stack2.top() > stack.top():\n",
    "        tmp = stack.pop()\n",
    "        stack.push(stack2.top())\n",
    "        stack2.push(tmp)\n",
    "    else:\n",
    "        stack2.push(stack.pop())\n",
    "\n",
    "\n",
    "\n",
    "print \"After Sorting\\t\",\n",
    "stack2.printStack()\n"
   ]
  },
  {
   "cell_type": "code",
   "execution_count": null,
   "metadata": {},
   "outputs": [],
   "source": []
  }
 ],
 "metadata": {
  "kernelspec": {
   "display_name": "Python 2",
   "language": "python",
   "name": "python2"
  },
  "language_info": {
   "codemirror_mode": {
    "name": "ipython",
    "version": 2
   },
   "file_extension": ".py",
   "mimetype": "text/x-python",
   "name": "python",
   "nbconvert_exporter": "python",
   "pygments_lexer": "ipython2",
   "version": "2.7.16"
  }
 },
 "nbformat": 4,
 "nbformat_minor": 2
}
