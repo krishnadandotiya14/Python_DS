{
 "cells": [
  {
   "cell_type": "markdown",
   "metadata": {},
   "source": [
    "# Stack Implementation"
   ]
  },
  {
   "cell_type": "code",
   "execution_count": 1,
   "metadata": {},
   "outputs": [],
   "source": [
    "class Stack(object):\n",
    "    \n",
    "    def __init__(self,limit=10):\n",
    "        self.item = []\n",
    "        self.limit = limit\n",
    "        \n",
    "    def empty(self):\n",
    "        if len(self.item) == 0:\n",
    "            return True\n",
    "        else: \n",
    "            return False\n",
    "        \n",
    "    def full(self):\n",
    "        if len(self.item) == self.limit:\n",
    "            return True\n",
    "        else:\n",
    "            return False\n",
    "        \n",
    "    def pushStack(self,data):\n",
    "        if len(self.item) < self.limit:\n",
    "            return self.item.insert(0,data)\n",
    "        else:\n",
    "            return -1\n",
    "    \n",
    "    def top(self):\n",
    "        if len(self.item) == 0:\n",
    "            return True\n",
    "        else: \n",
    "            return self.item[0]\n",
    "        \n",
    "    def popStack(self):\n",
    "        if len(self.item) != 0:\n",
    "           return self.item.pop();\n",
    "        else:\n",
    "            return -1\n",
    "        \n",
    "    def printStack(self):\n",
    "        print self.item"
   ]
  },
  {
   "cell_type": "code",
   "execution_count": null,
   "metadata": {},
   "outputs": [],
   "source": []
  },
  {
   "cell_type": "code",
   "execution_count": null,
   "metadata": {},
   "outputs": [],
   "source": [
    "a=Stack(5)"
   ]
  },
  {
   "cell_type": "code",
   "execution_count": null,
   "metadata": {},
   "outputs": [],
   "source": [
    "a.empty()"
   ]
  },
  {
   "cell_type": "code",
   "execution_count": null,
   "metadata": {},
   "outputs": [],
   "source": [
    "a.pushStack(1)\n",
    "a.pushStack(2)\n",
    "a.pushStack(3)\n",
    "a.pushStack(4)"
   ]
  },
  {
   "cell_type": "code",
   "execution_count": null,
   "metadata": {},
   "outputs": [],
   "source": [
    "a.empty()"
   ]
  },
  {
   "cell_type": "code",
   "execution_count": null,
   "metadata": {},
   "outputs": [],
   "source": [
    "a.full()"
   ]
  },
  {
   "cell_type": "code",
   "execution_count": null,
   "metadata": {},
   "outputs": [],
   "source": [
    "a.pushStack(5)\n",
    "a.pushStack(6)"
   ]
  },
  {
   "cell_type": "code",
   "execution_count": null,
   "metadata": {},
   "outputs": [],
   "source": [
    "a.popStack()\n",
    "a.popStack()\n",
    "a.popStack()\n",
    "a.popStack()\n",
    "a.popStack()"
   ]
  },
  {
   "cell_type": "markdown",
   "metadata": {},
   "source": [
    "# Reverse String using Stack"
   ]
  },
  {
   "cell_type": "code",
   "execution_count": null,
   "metadata": {},
   "outputs": [],
   "source": [
    "s=\"Reverse Me\"\n",
    "\n",
    "stack=Stack(20)\n",
    "\n",
    "for element in s:\n",
    "    stack.pushStack(element)\n",
    "\n",
    "result=''\n",
    "while not stack.empty():\n",
    "    result += stack.popStack()\n",
    "\n",
    "print result"
   ]
  },
  {
   "cell_type": "markdown",
   "metadata": {},
   "source": [
    "# Decimal to Binary using Stack"
   ]
  },
  {
   "cell_type": "code",
   "execution_count": null,
   "metadata": {},
   "outputs": [],
   "source": [
    "def decimal_to_binary(decimal):\n",
    "    stack = Stack()\n",
    "    tmp = decimal\n",
    "    base = 2\n",
    "    while decimal > 0:\n",
    "        rem = decimal % base\n",
    "        decimal = decimal / base\n",
    "        stack.pushStack(rem)\n",
    "    \n",
    "    #print stack.item\n",
    "    result = ''\n",
    "    while not stack.empty():\n",
    "        result += str(stack.popStack())\n",
    "    return int(result)\n",
    "\n",
    "decimal_to_binary(13)\n",
    "        \n",
    "        "
   ]
  },
  {
   "cell_type": "markdown",
   "metadata": {},
   "source": [
    "# Binary to Decimal using Stack"
   ]
  },
  {
   "cell_type": "code",
   "execution_count": null,
   "metadata": {},
   "outputs": [],
   "source": [
    "def binary_to_decimal(binary):\n",
    "    stack=Stack(len(binary))\n",
    "    for i in range(0,len(binary)):\n",
    "        stack.pushStack(2**i)\n",
    "\n",
    "    decimal=0\n",
    "    for i in range(0,len(binary)):\n",
    "        tmp=int(binary[i])\n",
    "        decimal += tmp*int(stack.popStack())\n",
    "=[]\n",
    "return decimal\n",
    "\n",
    "\n",
    "print(binary_to_decimal('1111'))\n",
    "print(binary_to_decimal('1101'))\n",
    "print(binary_to_decimal('0000'))"
   ]
  },
  {
   "cell_type": "markdown",
   "metadata": {},
   "source": [
    "## Balanced Paranthesis Problem"
   ]
  },
  {
   "cell_type": "code",
   "execution_count": null,
   "metadata": {},
   "outputs": [],
   "source": [
    "import sys\n",
    "\n",
    "def balancedParanthesis(input_str):\n",
    "    open_pr = ['{','[','(']\n",
    "    pr_pair = [('{','}'),('[',']'),('(',')')]\n",
    "    stack1=Stack()\n",
    "    flag = 0\n",
    "    for element in input_str:\n",
    "        if element in open_pr:\n",
    "            stack1.pushStack(element)\n",
    "        else:\n",
    "            if element == ']' and pr_pair[1][0] == stack1.top():\n",
    "                stack1.popStack();#stack1.printStack()\n",
    "\n",
    "            elif element == '}' and pr_pair[0][0] == stack1.top():\n",
    "                stack1.popStack();#stack1.printStack()\n",
    "\n",
    "            elif element == ')' and pr_pair[2][0] == stack1.top():\n",
    "                stack1.popStack();#stack1.printStack()\n",
    "                \n",
    "            else:\n",
    "                flag +=1;break\n",
    "                \n",
    "    if flag == 0:\n",
    "        print(\"Given String is balanced \"+input_str)\n",
    "    else:\n",
    "        print(\"NOt Balanced String \"+input_str)\n",
    "        \n",
    "        \n",
    "\n",
    "balancedParanthesis('{{{()]}}')\n",
    "balancedParanthesis('{{}}')\n",
    "balancedParanthesis('((((()))))')\n",
    "\n"
   ]
  },
  {
   "cell_type": "markdown",
   "metadata": {},
   "source": [
    "# INfix to PostFix Conversion"
   ]
  },
  {
   "cell_type": "code",
   "execution_count": null,
   "metadata": {},
   "outputs": [],
   "source": [
    "\"\"\"import operator\n",
    "input_str = '9+8-3*1'\n",
    "def infix_2_postfix(input_str):\n",
    "    stack1 = Stack()\n",
    "    \n",
    "    for token in input_str:\n",
    "        if token in \"\"\n",
    "    \n",
    "def doMath(op, op1, op2):\n",
    "    if op == \"*\":\n",
    "        return op1 * op2\n",
    "    elif op == \"/\":\n",
    "        return op1 / op2\n",
    "    elif op == \"+\":\n",
    "        return op1 + op2\n",
    "    elif op == \"-\":\n",
    "        return op1 - op2\n",
    "\n",
    "infix_2_postfix('9+8-3*1')\n",
    "\n",
    "\"\"\""
   ]
  },
  {
   "cell_type": "code",
   "execution_count": null,
   "metadata": {},
   "outputs": [],
   "source": []
  }
 ],
 "metadata": {
  "kernelspec": {
   "display_name": "Python 2",
   "language": "python",
   "name": "python2"
  },
  "language_info": {
   "codemirror_mode": {
    "name": "ipython",
    "version": 2
   },
   "file_extension": ".py",
   "mimetype": "text/x-python",
   "name": "python",
   "nbconvert_exporter": "python",
   "pygments_lexer": "ipython2",
   "version": "2.7.16"
  }
 },
 "nbformat": 4,
 "nbformat_minor": 2
}
